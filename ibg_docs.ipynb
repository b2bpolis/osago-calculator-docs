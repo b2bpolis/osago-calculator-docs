{
 "cells": [
  {
   "cell_type": "markdown",
   "metadata": {},
   "source": [
    "# Технические детали"
   ]
  },
  {
   "cell_type": "code",
   "execution_count": 1,
   "metadata": {
    "collapsed": true
   },
   "outputs": [],
   "source": [
    "import json\n",
    "import requests\n",
    "import xml.dom.minidom as minidom\n",
    "import datetime as dt"
   ]
  },
  {
   "cell_type": "code",
   "execution_count": 2,
   "metadata": {
    "collapsed": true
   },
   "outputs": [],
   "source": [
    "headers = {'Pragma': 'no-cache',\n",
    "           'Origin': 'http://ibg.dev.b2bpolis.ru/',\n",
    "           'Accept-Encoding': 'gzip, deflate',\n",
    "           'Accept-Language': 'en-US,en;q=0.8,ru;q=0.6',\n",
    "           'User-Agent': 'Mozilla/5.0 (X11; Linux x86_64) AppleWebKit/537.36 (KHTML, like Gecko) Chrome/53.0.2785.143 Safari/537.36',\n",
    "           'Content-Type': 'application/json;charset=UTF-8',\n",
    "           'Accept': 'application/json, text/plain, */*',\n",
    "           'Cache-Control': 'no-cache',\n",
    "           'Connection': 'keep-alive',\n",
    "           'Authorization': # поставить Токен авторизации,\n",
    "           'Cookie':        # поставить Куки\n",
    "           }"
   ]
  },
  {
   "cell_type": "markdown",
   "metadata": {},
   "source": [
    "# Создаём участников страхования"
   ]
  },
  {
   "cell_type": "code",
   "execution_count": 3,
   "metadata": {
    "collapsed": true
   },
   "outputs": [],
   "source": [
    "url_person = 'http://ibg.dev.b2bpolis.ru/rest/default/client/natural-person-create'\n",
    "METHOD     = 'POST'"
   ]
  },
  {
   "cell_type": "markdown",
   "metadata": {},
   "source": [
    "### Преобразование адреса человека к нужному формату"
   ]
  },
  {
   "cell_type": "markdown",
   "metadata": {},
   "source": [
    "РСА требует наличие адреса. Мы используем сервис dadata.ru"
   ]
  },
  {
   "cell_type": "code",
   "execution_count": 4,
   "metadata": {
    "collapsed": false
   },
   "outputs": [],
   "source": [
    "url_addr  = 'https://dadata.ru/api/v2/suggest/address'\n",
    "METHOD    = 'POST'\n",
    "DATA_addr =\n",
    "u\"\"\"\n",
    "{\n",
    "    \"query\": \"Москва, ул Молодёжная, д 48, кв 5\"\n",
    "}\n",
    "\"\"\""
   ]
  },
  {
   "cell_type": "markdown",
   "metadata": {},
   "source": [
    "Если всё хорошо и dadata понял нас, в ответе придёт очень много информации, но нас интересует только малая часть"
   ]
  },
  {
   "cell_type": "code",
   "execution_count": 5,
   "metadata": {
    "collapsed": false
   },
   "outputs": [
    {
     "name": "stdout",
     "output_type": "stream",
     "text": [
      "{\n",
      "    \"address_type\": 1, \n",
      "    \"city\": \"Москва\", \n",
      "    \"country\": \"Россия\", \n",
      "    \"flat\": \"5\", \n",
      "    \"house\": \"48\", \n",
      "    \"kladr\": \"77000000000189000\", \n",
      "    \"street\": \"Молодёжная\"\n",
      "}\n"
     ]
    }
   ],
   "source": [
    "response_addr = requests.post(url=url_addr, headers=headers, data=DATA_addr.encode('utf8'))\n",
    "parsed_resp_addr = json.loads(response_addr.text)\n",
    "addr_data = parsed_resp_addr['suggestions'][0]['data']\n",
    "\n",
    "address =   {\"address_type\": 1,                         # ДОБАВЛЯЕМ НЕОБХОДИМОЕ ПОЛЕ          \n",
    "             \"country\"     : addr_data['country'],\n",
    "             \"city\"        : addr_data['city'],\n",
    "             \"street\"      : addr_data[\"street\"],\n",
    "             \"house\"       : addr_data[\"house\"],\n",
    "             \"flat\"        : addr_data[\"flat\"],\n",
    "             \"kladr\"       : addr_data[\"kladr_id\"],\n",
    "             }\n",
    "print json.dumps(address, indent=4, sort_keys=True).decode('unicode-escape')"
   ]
  },
  {
   "cell_type": "markdown",
   "metadata": {},
   "source": [
    "## - водителя(ей)"
   ]
  },
  {
   "cell_type": "markdown",
   "metadata": {},
   "source": [
    "для каждого водителя делаем свой запрос"
   ]
  },
  {
   "cell_type": "code",
   "execution_count": 6,
   "metadata": {
    "collapsed": false
   },
   "outputs": [],
   "source": [
    "DATA_driver =\n",
    "u\"\"\"\n",
    "{\n",
    "    \"address\": [\n",
    "        {\n",
    "            \"address_type\": 1, \n",
    "            \"city\": \"Москва\", \n",
    "            \"country\": \"Россия\", \n",
    "            \"flat\": 5, \n",
    "            \"house\": \"48\", \n",
    "            \"kladr\": \"77000000000189000\", \n",
    "            \"street\": \"Молодёжна\"\n",
    "        }\n",
    "    ], \n",
    "    \"birth_date\": \"1986-12-14\", \n",
    "    \"check_driver\": \"true\",                   # ДОБАВЛЯЕМ НЕОБХОДИМОЕ ДЛЯ ВОДИТЕЛЕЙ ПОЛЕ\n",
    "    \"credential\": [\n",
    "        {\n",
    "            \"credential_type\": 3,             # НЕОБХОДИМОЕ ПОЛЕ\n",
    "            \"issue_point\": \"РФ\", \n",
    "            \"number\": \"191882\", \n",
    "            \"series\": \"16ТН\"\n",
    "        }\n",
    "    ], \n",
    "    \"driving_experience_started\": \"2008-11-08\", \n",
    "    \"first_name\": \"Марина\", \n",
    "    \"last_name\": \"Бердникова\", \n",
    "    \"patronymic\": \"Николаевна\"\n",
    "}\n",
    "\"\"\""
   ]
  },
  {
   "cell_type": "code",
   "execution_count": 7,
   "metadata": {
    "collapsed": false
   },
   "outputs": [
    {
     "name": "stdout",
     "output_type": "stream",
     "text": [
      "driver age: 8\n",
      "driver exp: 29\n",
      "driver id: 3498\n"
     ]
    }
   ],
   "source": [
    "response_driver = requests.post(url=url_person, data=DATA_driver.encode('utf8'), headers=headers)\n",
    "parsed_resp_driver = json.loads(response_driver.text)\n",
    "\n",
    "# рассчитываем возраст и стаж водителя\n",
    "driver_exp = dt.datetime.now().year - int(parsed_resp_driver['driving_experience_started'][:4])\n",
    "driver_age = (dt.datetime.now() - dt.datetime.strptime(parsed_resp_driver['birth_date'], '%Y-%m-%d')).days/365\n",
    "print 'driver age:', driver_exp\n",
    "print 'driver exp:', driver_age\n",
    "\n",
    "# id водителя\n",
    "driver_idx = parsed_resp_driver['id']\n",
    "print 'driver id:', driver_idx"
   ]
  },
  {
   "cell_type": "markdown",
   "metadata": {},
   "source": [
    "## - собственника, страхователя"
   ]
  },
  {
   "cell_type": "markdown",
   "metadata": {},
   "source": [
    "делаем ещё раз запрос адреса по предыдущей схеме, который и помещаем в запрос Собственника"
   ]
  },
  {
   "cell_type": "code",
   "execution_count": 8,
   "metadata": {
    "collapsed": false,
    "scrolled": false
   },
   "outputs": [],
   "source": [
    "DATA_owner =\n",
    "u\"\"\"\n",
    "{\n",
    "    \"address\": [\n",
    "        {\n",
    "            \"address_type\": 1, \n",
    "            \"city\": \"Канаш\", \n",
    "            \"country\": \"Россия\", \n",
    "            \"flat\": null, \n",
    "            \"house\": \"54\", \n",
    "            \"kladr\": \"2100002300000450003\", \n",
    "            \"street\": \"Комсомольская\"\n",
    "        }\n",
    "    ], \n",
    "    \"birth_date\": \"1984-03-14\", \n",
    "    \"check_owner\": true,                        # ДОБАВЛЯЕМ НЕОБХОДИМОЕ ДЛЯ СОБСТВЕННИКА ПОЛЕ\n",
    "    \"credential\": [\n",
    "        {\n",
    "            \"credential_type\": 1,               # НЕОБХОДИМОЕ ПОЛЕ\n",
    "            \"issue_date\": \"2006-02-28\", \n",
    "            \"issue_point\": \"УФМС\", \n",
    "            \"number\": \"412777\", \n",
    "            \"series\": \"9705\"\n",
    "        }\n",
    "    ], \n",
    "    \"first_name\": \"Рашид\", \n",
    "    \"gender\": \"M\", \n",
    "    \"last_name\": \"Гафиятуллин\", \n",
    "    \"patronymic\": \"Минсеитович\"\n",
    "}\n",
    "\"\"\""
   ]
  },
  {
   "cell_type": "code",
   "execution_count": 9,
   "metadata": {
    "collapsed": false
   },
   "outputs": [
    {
     "name": "stdout",
     "output_type": "stream",
     "text": [
      "owner: 3178\n"
     ]
    }
   ],
   "source": [
    "response_owner = requests.post(url=url_person, data=DATA_owner.encode('utf8'), headers=headers)\n",
    "parsed_resp_owner = json.loads(response_owner.text)\n",
    "\n",
    "# id собственника\n",
    "owner = parsed_resp_owner['person']\n",
    "print 'owner:', owner"
   ]
  },
  {
   "cell_type": "markdown",
   "metadata": {},
   "source": [
    "# Создаём страхуемое авто"
   ]
  },
  {
   "cell_type": "markdown",
   "metadata": {},
   "source": [
    "## - получаем id марки и модели авто"
   ]
  },
  {
   "cell_type": "code",
   "execution_count": 10,
   "metadata": {
    "collapsed": true
   },
   "outputs": [],
   "source": [
    "url_car_mark = 'http://ibg.dev.b2bpolis.ru/rest/full/car_mark/'\n",
    "METHOD       = 'GET'"
   ]
  },
  {
   "cell_type": "code",
   "execution_count": 11,
   "metadata": {
    "collapsed": false
   },
   "outputs": [],
   "source": [
    "car_marks = {}\n",
    "response_car_mark = requests.get(url=url_car_mark, headers=headers)\n",
    "parsed_resp_car_mark = json.loads(response_car_mark.text)\n",
    "for row in parsed_resp_car_mark:\n",
    "    is_for, idx, title = row.values()\n",
    "    car_marks[title] = idx"
   ]
  },
  {
   "cell_type": "code",
   "execution_count": 12,
   "metadata": {
    "collapsed": false
   },
   "outputs": [
    {
     "data": {
      "text/plain": [
       "65176"
      ]
     },
     "execution_count": 12,
     "metadata": {},
     "output_type": "execute_result"
    }
   ],
   "source": [
    "# выбираем марку\n",
    "car_mark = car_marks['Skoda']\n",
    "car_mark"
   ]
  },
  {
   "cell_type": "code",
   "execution_count": 13,
   "metadata": {
    "collapsed": true
   },
   "outputs": [],
   "source": [
    "url_car_models = 'http://ibg.dev.b2bpolis.ru/rest/full/car_mark/{}/car_model'.format(car_mark)\n",
    "METHOD         = 'GET'"
   ]
  },
  {
   "cell_type": "code",
   "execution_count": 14,
   "metadata": {
    "collapsed": false
   },
   "outputs": [],
   "source": [
    "car_models = {}\n",
    "response_car_models = requests.get(url=url_car_models, headers=headers)\n",
    "parsed_resp_car_models = json.loads(response_car_models.text)\n",
    "for row in parsed_resp_car_models:\n",
    "    title, idx, _, _ = row.values()\n",
    "    car_models[title] = idx"
   ]
  },
  {
   "cell_type": "code",
   "execution_count": 15,
   "metadata": {
    "collapsed": false
   },
   "outputs": [
    {
     "data": {
      "text/plain": [
       "65190"
      ]
     },
     "execution_count": 15,
     "metadata": {},
     "output_type": "execute_result"
    }
   ],
   "source": [
    "# выбираем модель\n",
    "car_model = car_models['FABIA']\n",
    "car_model"
   ]
  },
  {
   "cell_type": "markdown",
   "metadata": {},
   "source": [
    "## - создаём авто"
   ]
  },
  {
   "cell_type": "code",
   "execution_count": 16,
   "metadata": {
    "collapsed": true
   },
   "outputs": [],
   "source": [
    "url_car = 'http://ibg.dev.b2bpolis.ru/rest/default/client/car-create'\n",
    "METHOD  = 'POST'"
   ]
  },
  {
   "cell_type": "code",
   "execution_count": 17,
   "metadata": {
    "collapsed": false
   },
   "outputs": [],
   "source": [
    "DATA_car =\n",
    "u\"\"\"\n",
    "{\n",
    "    \"car_mark\": 65176, \n",
    "    \"car_model\": 65190, \n",
    "    \"car_modification\": null,                             # НЕОБХОДИМОЕ ПОЛЕ \n",
    "    \"cost\": 0,                                            # НЕОБХОДИМОЕ ПОЛЕ \n",
    "    \"credential\": [\n",
    "        {\n",
    "            \"credential_type\": 4,                         # НЕОБХОДИМОЕ ПОЛЕ \n",
    "            \"issue_date\": \"2011-07-19\", \n",
    "            \"number\": \"850677\", \n",
    "            \"series\": \"77УН\"\n",
    "        }\n",
    "    ], \n",
    "    \"engine_power\": 105, \n",
    "    \"engine_power_kilowatt\": 77.23, \n",
    "    \"manufacturing_date\": \"2011-01-01\", \n",
    "    \"mileage\": \"20\", \n",
    "    \"number_plate\": \"Е271ХМ178\", \n",
    "    \"vin_number\": \"TMBED45J2B3209311\"\n",
    "}\n",
    "\"\"\""
   ]
  },
  {
   "cell_type": "code",
   "execution_count": 18,
   "metadata": {
    "collapsed": false
   },
   "outputs": [
    {
     "name": "stdout",
     "output_type": "stream",
     "text": [
      "car id: 4448\n"
     ]
    }
   ],
   "source": [
    "response_car = requests.post(url=url_car, data=DATA_car.encode('utf8'), headers=headers)\n",
    "parsed_resp_car = json.loads(response_car.text)\n",
    "\n",
    "car_idx = parsed_resp_car['id']\n",
    "print 'car id:', car_idx"
   ]
  },
  {
   "cell_type": "markdown",
   "metadata": {},
   "source": [
    "# Создаём расчёт"
   ]
  },
  {
   "cell_type": "markdown",
   "metadata": {},
   "source": [
    "## - собираем всё в один объект"
   ]
  },
  {
   "cell_type": "code",
   "execution_count": 19,
   "metadata": {
    "collapsed": true
   },
   "outputs": [],
   "source": [
    "url_ins_obj = 'http://ibg.dev.b2bpolis.ru/rest/default/client/insured-object'\n",
    "METHOD      = 'POST'"
   ]
  },
  {
   "cell_type": "code",
   "execution_count": 20,
   "metadata": {
    "collapsed": false,
    "scrolled": true
   },
   "outputs": [],
   "source": [
    "# все id водителей объединяем в массив\n",
    "DATA_ins_obj =\n",
    "u\"\"\"\n",
    "{\n",
    "    \"beneficiary\": 3174,                          # owner\n",
    "    \"drivers\": [\n",
    "        3494                                      # driver_idx\n",
    "    ], \n",
    "    \"insurant\": 3174,                             # owner\n",
    "    \"object_id\": 4446,                            # car_idx \n",
    "    \"object_type\": \"car\", \n",
    "    \"owner\": 3174                                 # owner\n",
    "}\n",
    "\"\"\""
   ]
  },
  {
   "cell_type": "code",
   "execution_count": 21,
   "metadata": {
    "collapsed": false
   },
   "outputs": [
    {
     "name": "stdout",
     "output_type": "stream",
     "text": [
      "insurable_object id: 4223\n"
     ]
    }
   ],
   "source": [
    "response_ins_obj = requests.post(url=url_ins_obj, data=DATA_ins_obj.encode('utf8'), headers=headers)\n",
    "parsed_resp_ins_obj = json.loads(response_ins_obj.text)\n",
    "\n",
    "idx_ins_obj = parsed_resp_ins_obj['id']\n",
    "print 'insurable_object id:', idx_ins_obj"
   ]
  },
  {
   "cell_type": "markdown",
   "metadata": {},
   "source": [
    "## - создаём расчёт"
   ]
  },
  {
   "cell_type": "code",
   "execution_count": 22,
   "metadata": {
    "collapsed": true
   },
   "outputs": [],
   "source": [
    "url_calc = 'http://ibg.dev.b2bpolis.ru/rest/full/calculation/'\n",
    "METHOD   = 'POST'"
   ]
  },
  {
   "cell_type": "code",
   "execution_count": 23,
   "metadata": {
    "collapsed": false
   },
   "outputs": [],
   "source": [
    "DATA_calc =\n",
    "u\"\"\"\n",
    "{\n",
    "    \"calculation_at_date\": \"2016-11-09\",                # дата \"сегодня\"\n",
    "    \"car_cost\": \"0\",                                    # НЕОБХОДИМОЕ ПОЛЕ\n",
    "    \"car_manufacturing_year\": 2011, \n",
    "    \"car_mark\": 65176, \n",
    "    \"car_model\": \"65190\", \n",
    "    \"car_type\": 46202,                                  # НЕОБХОДИМОЕ ПОЛЕ\n",
    "    \"created_at\": \"2016-11-07T18:44:03.047\",            # дата \"сегодня\"\n",
    "    \"driver_set\": [\n",
    "        {\n",
    "            \"age\": 29,                                  # инфа о водителях в массиве\n",
    "            \"expirience\": 8\n",
    "        }\n",
    "    ], \n",
    "    \"drivers_count\": 1,                                 # кол-во водителей\n",
    "    \"drivers_minimal_age\": 29, \n",
    "    \"drivers_minimal_experience\": 7, \n",
    "    \"engine_power\": 105,\n",
    "    \"exploitation_area\": 50906,                         # НЕОБХОДИМОЕ ПОЛЕ \n",
    "    \"has_foreign_registration\": false,                  # ТС зарегистрирован в другой стране\n",
    "    \"insurance_duration\": 46227,                        # НЕОБХОДИМОЕ ПОЛЕ \n",
    "    \"insurance_type\": 37564,                            # НЕОБХОДИМОЕ ПОЛЕ \n",
    "    \"insurant_type\": 53666,                             # НЕОБХОДИМОЕ ПОЛЕ \n",
    "    \"insured_object\": 4221,                             # idx_ins_obj\n",
    "    \"is_calculate_osago\": true,                         # НЕОБХОДИМОЕ ПОЛЕ\n",
    "    \"is_legal_entity\": false,                           # юридическое лицо\n",
    "    \"is_multidrive\": false,                             # мультидрайв\n",
    "    \"is_new_car\": false,                                # новый автомобиль\n",
    "    \"is_prolongation\": false,                           # пролонгация\n",
    "    \"is_seasonal_using\": false,                         # сезонное использование\n",
    "    \"is_without_registration_car\": false,               # ТС без регистрации\n",
    "    \"owner_registration\": 46239,                        # НЕОБХОДИМОЕ ПОЛЕ\n",
    "    \"policy_area\": 46595,                               # НЕОБХОДИМОЕ ПОЛЕ\n",
    "    \"prolongation\": 51028,                              # НЕОБХОДИМОЕ ПОЛЕ\n",
    "    \"target_of_using\": 46596,                           # НЕОБХОДИМОЕ ПОЛЕ\n",
    "    \"using_api\": true                                   # НЕОБХОДИМОЕ ПОЛЕ\n",
    "}\n",
    "\"\"\""
   ]
  },
  {
   "cell_type": "code",
   "execution_count": 24,
   "metadata": {
    "collapsed": false,
    "scrolled": false
   },
   "outputs": [
    {
     "name": "stdout",
     "output_type": "stream",
     "text": [
      "id расчёта: 6651226\n"
     ]
    }
   ],
   "source": [
    "response_calc = requests.post(url=url_calc, data=DATA_calc.encode('utf8'), headers=headers)\n",
    "parsed_resp_calc = json.loads(response_calc.text)\n",
    "idx_calc = parsed_resp_calc['id']\n",
    "print 'id расчёта:', idx_calc"
   ]
  },
  {
   "cell_type": "markdown",
   "metadata": {},
   "source": [
    "## - ещё один технический зарос без данных"
   ]
  },
  {
   "cell_type": "code",
   "execution_count": 25,
   "metadata": {
    "collapsed": false
   },
   "outputs": [],
   "source": [
    "url_first_final = 'http://ibg.dev.b2bpolis.ru/rest/v3/default/calculation/{}/result/67405/?insurance_company=1&messages=1&vars=1'.format(idx_calc)\n",
    "METHOD          = 'POST'"
   ]
  },
  {
   "cell_type": "code",
   "execution_count": 26,
   "metadata": {
    "collapsed": false
   },
   "outputs": [
    {
     "name": "stdout",
     "output_type": "stream",
     "text": [
      "68306443\n"
     ]
    }
   ],
   "source": [
    "response_first_final = requests.post(url=url_first_final, headers=headers)\n",
    "parsed_resp_first_final = json.loads(response_first_final.text)\n",
    "\n",
    "result_idx = parsed_resp_first_final[0]['id']\n",
    "print result_idx"
   ]
  },
  {
   "cell_type": "markdown",
   "metadata": {},
   "source": [
    "# Получаем полис"
   ]
  },
  {
   "cell_type": "markdown",
   "metadata": {},
   "source": [
    "## - создаём полис"
   ]
  },
  {
   "cell_type": "code",
   "execution_count": 27,
   "metadata": {
    "collapsed": true
   },
   "outputs": [],
   "source": [
    "url_res_pol = 'http://ibg.dev.b2bpolis.ru/policy/rest/result_policy/'\n",
    "METHOD      = 'POST'"
   ]
  },
  {
   "cell_type": "code",
   "execution_count": 28,
   "metadata": {
    "collapsed": false
   },
   "outputs": [],
   "source": [
    "req_res_pol =\n",
    "u\"\"\"\n",
    "{\n",
    "    \"exploitation_period_begin_in_contract_time\": \"2016-11-09\", \n",
    "    \"exploitation_period_end_in_contract_time\": \"2017-11-08\", \n",
    "    \"insured_object\": 4221, \n",
    "    \"result\": 68306441, \n",
    "    \"status\": \"saved\", \n",
    "    \"valid_from\": \"2016-11-09T0:00\", \n",
    "    \"valid_to\": \"2017-11-08T23:59\"\n",
    "}\n",
    "\"\"\""
   ]
  },
  {
   "cell_type": "code",
   "execution_count": 29,
   "metadata": {
    "collapsed": false
   },
   "outputs": [
    {
     "name": "stdout",
     "output_type": "stream",
     "text": [
      "id полиса: 1258\n"
     ]
    }
   ],
   "source": [
    "response_res_pol = requests.post(url=url_res_pol, data=req_res_pol.encode('utf8'), headers=headers)\n",
    "parsed_resp_res_pol = json.loads(response_res_pol.text)\n",
    "\n",
    "policy_idx = parsed_resp_res_pol['id']\n",
    "print 'id полиса:', policy_idx"
   ]
  },
  {
   "cell_type": "markdown",
   "metadata": {},
   "source": [
    "## - получаем электронные версии полиса, анкеты и заявления"
   ]
  },
  {
   "cell_type": "code",
   "execution_count": 30,
   "metadata": {
    "collapsed": true
   },
   "outputs": [],
   "source": [
    "url_print = 'http://ibg.dev.b2bpolis.ru/policy/rest/result_policy/{}/print/'.format(policy_idx)\n",
    "METHOD    = 'POST'"
   ]
  },
  {
   "cell_type": "code",
   "execution_count": 31,
   "metadata": {
    "collapsed": false
   },
   "outputs": [
    {
     "name": "stdout",
     "output_type": "stream",
     "text": [
      "http://ibg.dev.b2bpolis.ru/policy/rest/result_policy/1258/print/1/\n",
      "http://ibg.dev.b2bpolis.ru/policy/rest/result_policy/1258/print/2/\n",
      "http://ibg.dev.b2bpolis.ru/policy/rest/result_policy/1258/print/3/\n"
     ]
    }
   ],
   "source": [
    "response_print = requests.post(url=url_print, headers=headers)\n",
    "parsed_resp_print = json.loads(response_print.text)\n",
    "\n",
    "print 'http://ibg.dev.b2bpolis.ru/policy/rest/result_policy/{}/print/1/'.format(policy_idx)\n",
    "print 'http://ibg.dev.b2bpolis.ru/policy/rest/result_policy/{}/print/2/'.format(policy_idx)\n",
    "print 'http://ibg.dev.b2bpolis.ru/policy/rest/result_policy/{}/print/3/'.format(policy_idx)"
   ]
  }
 ],
 "metadata": {
  "kernelspec": {
   "display_name": "Python 2",
   "language": "python",
   "name": "python2"
  },
  "language_info": {
   "codemirror_mode": {
    "name": "ipython",
    "version": 2
   },
   "file_extension": ".py",
   "mimetype": "text/x-python",
   "name": "python",
   "nbconvert_exporter": "python",
   "pygments_lexer": "ipython2",
   "version": "2.7.12"
  }
 },
 "nbformat": 4,
 "nbformat_minor": 1
}
